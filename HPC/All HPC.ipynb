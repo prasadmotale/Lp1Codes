{
  "nbformat": 4,
  "nbformat_minor": 0,
  "metadata": {
    "colab": {
      "name": "my First Cuda.ipynb",
      "provenance": []
    },
    "kernelspec": {
      "name": "python3",
      "display_name": "Python 3"
    },
    "language_info": {
      "name": "python"
    },
    "accelerator": "GPU"
  },
  "cells": [
    {
      "cell_type": "code",
      "execution_count": null,
      "metadata": {
        "id": "Lz59X6RnZAkr"
      },
      "outputs": [],
      "source": [
        "!apt-get --purge remove cuda nvidia* libnvidia-*\n",
        "!dpkg -l | grep cuda- | awk '{print $2}' | xargs -n1 dpkg --purge\n",
        "!apt-get remove cuda-*\n",
        "!apt autoremove\n",
        "!apt-get update"
      ]
    },
    {
      "cell_type": "code",
      "source": [
        ""
      ],
      "metadata": {
        "id": "pUwRbynDHgjf"
      },
      "execution_count": null,
      "outputs": []
    },
    {
      "cell_type": "code",
      "source": [
        "!wget https://developer.nvidia.com/compute/cuda/9.2/Prod/local_installers/cuda-repo-ubuntu1604-9-2-local_9.2.88-1_amd64 -O cuda-repo-ubuntu1604-9-2-local_9.2.88-1_amd64.deb\n",
        "!dpkg -i cuda-repo-ubuntu1604-9-2-local_9.2.88-1_amd64.deb\n",
        "!apt-key add /var/cuda-repo-9-2-local/7fa2af80.pub\n",
        "!apt-get update\n",
        "!apt-get install cuda-9.2"
      ],
      "metadata": {
        "id": "0D0ZyOS5axkd"
      },
      "execution_count": null,
      "outputs": []
    },
    {
      "cell_type": "code",
      "source": [
        "!nvcc --version\n"
      ],
      "metadata": {
        "colab": {
          "base_uri": "https://localhost:8080/"
        },
        "id": "BqSCta7kcZbm",
        "outputId": "61dae9f8-9f6b-4b06-832f-ae742120596a"
      },
      "execution_count": null,
      "outputs": [
        {
          "output_type": "stream",
          "name": "stdout",
          "text": [
            "nvcc: NVIDIA (R) Cuda compiler driver\n",
            "Copyright (c) 2005-2018 NVIDIA Corporation\n",
            "Built on Wed_Apr_11_23:16:29_CDT_2018\n",
            "Cuda compilation tools, release 9.2, V9.2.88\n"
          ]
        }
      ]
    },
    {
      "cell_type": "code",
      "source": [
        "!pip install git+git://github.com/andreinechaev/nvcc4jupyter.git"
      ],
      "metadata": {
        "colab": {
          "base_uri": "https://localhost:8080/"
        },
        "id": "-cfbSGMicjOV",
        "outputId": "82dbebb0-c8ec-4179-e057-f39cd4e088d9"
      },
      "execution_count": null,
      "outputs": [
        {
          "output_type": "stream",
          "name": "stdout",
          "text": [
            "Collecting git+git://github.com/andreinechaev/nvcc4jupyter.git\n",
            "  Cloning git://github.com/andreinechaev/nvcc4jupyter.git to /tmp/pip-req-build-d998wwm2\n",
            "  Running command git clone -q git://github.com/andreinechaev/nvcc4jupyter.git /tmp/pip-req-build-d998wwm2\n",
            "Building wheels for collected packages: NVCCPlugin\n",
            "  Building wheel for NVCCPlugin (setup.py) ... \u001b[?25l\u001b[?25hdone\n",
            "  Created wheel for NVCCPlugin: filename=NVCCPlugin-0.0.2-py3-none-any.whl size=4305 sha256=4a7bee3dea937f5d021f853e9cdd17c26ab68ff86536229d649dfedd506858d9\n",
            "  Stored in directory: /tmp/pip-ephem-wheel-cache-tnagddz1/wheels/c5/2b/c0/87008e795a14bbcdfc7c846a00d06981916331eb980b6c8bdf\n",
            "Successfully built NVCCPlugin\n",
            "Installing collected packages: NVCCPlugin\n",
            "Successfully installed NVCCPlugin-0.0.2\n"
          ]
        }
      ]
    },
    {
      "cell_type": "code",
      "source": [
        "%load_ext nvcc_plugin"
      ],
      "metadata": {
        "colab": {
          "base_uri": "https://localhost:8080/"
        },
        "id": "In7Y20R0cnUo",
        "outputId": "7cf3ff61-20c0-4bbb-a27a-e012e6f8b11a"
      },
      "execution_count": null,
      "outputs": [
        {
          "output_type": "stream",
          "name": "stdout",
          "text": [
            "created output directory at /content/src\n",
            "Out bin /content/result.out\n"
          ]
        }
      ]
    },
    {
      "cell_type": "code",
      "source": [
        "%%cu\n",
        "#include <stdio.h>\n",
        "#include <stdlib.h>\n",
        "__global__ void add(int *a, int *b, int *c) {\n",
        "*c = *a + *b;\n",
        "}\n",
        "int main() {\n",
        "int a, b, c;\n",
        "// host copies of variables a, b & c\n",
        "int *d_a, *d_b, *d_c;\n",
        "// device copies of variables a, b & c\n",
        "int size = sizeof(int);\n",
        "// Allocate space for device copies of a, b, c\n",
        "cudaMalloc((void **)&d_a, size);\n",
        "cudaMalloc((void **)&d_b, size);\n",
        "cudaMalloc((void **)&d_c, size);\n",
        "// Setup input values  \n",
        "c = 0;\n",
        "a = 3;\n",
        "b = 5;\n",
        "// Copy inputs to device\n",
        "cudaMemcpy(d_a, &a, size, cudaMemcpyHostToDevice);\n",
        "  cudaMemcpy(d_b, &b, size, cudaMemcpyHostToDevice);\n",
        "// Launch add() kernel on GPU\n",
        "add<<<1,1>>>(d_a, d_b, d_c);\n",
        "// Copy result back to host\n",
        "cudaError err = cudaMemcpy(&c, d_c, size, cudaMemcpyDeviceToHost);\n",
        "  if(err!=cudaSuccess) {\n",
        "      printf(\"CUDA error copying to Host: %s\\n\", cudaGetErrorString(err));\n",
        "  }\n",
        "printf(\"result is %d\\n\",c);\n",
        "// Cleanup\n",
        "cudaFree(d_a);\n",
        "cudaFree(d_b);\n",
        "cudaFree(d_c);\n",
        "return 0;\n",
        "}"
      ],
      "metadata": {
        "colab": {
          "base_uri": "https://localhost:8080/"
        },
        "id": "otWEoH98crPA",
        "outputId": "417424df-11d6-4c70-a85e-c25fd8995e49"
      },
      "execution_count": null,
      "outputs": [
        {
          "output_type": "stream",
          "name": "stdout",
          "text": [
            "result is 8\n",
            "\n"
          ]
        }
      ]
    },
    {
      "cell_type": "code",
      "source": [
        "%%cu\n",
        "#include<stdio.h>\n",
        "#include<cuda.h>\n",
        "\n",
        "__global__ void arradd(int *x,int *y, int *z)    //kernel definition\n",
        "{\n",
        "  int id=blockIdx.x; \n",
        "/* blockIdx.x gives the respective block id which starts from 0 */\n",
        "  z[id]=x[id]+y[id];\n",
        "}\n",
        "\n",
        "int main()\n",
        "{\n",
        "    int a[6] =  {1,6,4,6,7,2};\n",
        "    int b[6] =  {2,3,7,1,-7,-2};\n",
        "    int c[6];\n",
        "    int *d,*e,*f;\n",
        "    int i;\n",
        "    \n",
        "\n",
        "/* cudaMalloc() allocates memory from Global memory on GPU */\n",
        "    cudaMalloc((void **)&d,6*sizeof(int));\n",
        "    cudaMalloc((void **)&e,6*sizeof(int));\n",
        "    cudaMalloc((void **)&f,6*sizeof(int));\n",
        "\n",
        "/* cudaMemcpy() copies the contents from destination to source. Here destination is GPU(d,e) and source is CPU(a,b) */\n",
        " cudaMemcpy(d,a,6*sizeof(int),cudaMemcpyHostToDevice);   \n",
        " cudaMemcpy(e,b,6*sizeof(int),cudaMemcpyHostToDevice);\n",
        " \n",
        "/* call to kernel. Here 6 is number of blocks, 1 is the number of threads per block and d,e,f are the arguments */ \n",
        "arradd<<<6,1>>>(d,e,f); \n",
        "\n",
        "/* Here we are copying content from GPU(Device) to CPU(Host) */\n",
        " cudaMemcpy(c,f,6*sizeof(int),cudaMemcpyDeviceToHost);\n",
        "    \n",
        "printf(\"\\nSum of two arrays:\\n \");\n",
        "    for(i=0;i<6;i++)\n",
        "    {\n",
        "        printf(\"%d\\t\",c[i]);\n",
        "    }\n",
        "\n",
        "/* Free the memory allocated to pointers d,e,f */\n",
        "    cudaFree(d);\n",
        "    cudaFree(e);\n",
        "    cudaFree(f);\n",
        "\n",
        "    return 0;\n",
        "}"
      ],
      "metadata": {
        "colab": {
          "base_uri": "https://localhost:8080/"
        },
        "id": "iodsWa9dfSEd",
        "outputId": "d27c166a-c498-431a-addc-5bb41fe29b6e"
      },
      "execution_count": null,
      "outputs": [
        {
          "output_type": "stream",
          "name": "stdout",
          "text": [
            "\n",
            "Sum of two arrays:\n",
            " 3\t9\t11\t7\t0\t0\t\n"
          ]
        }
      ]
    },
    {
      "cell_type": "markdown",
      "source": [
        "# ***HPC A1: (Min,Max,Mean, Std. Deviation)***"
      ],
      "metadata": {
        "id": "t8sGtJKbwwZP"
      }
    },
    {
      "cell_type": "code",
      "source": [
        "%%cu\n",
        "#include<iostream>\n",
        "#include<math.h>\n",
        "\n",
        "#define n 8\n",
        "\n",
        "using namespace std;\n",
        "\n",
        "__global__ void minimum(int *input) {\n",
        "    int tid = threadIdx.x;\n",
        "    int step_size = 1;\n",
        "    int number_of_threads = blockDim.x;\n",
        "    \n",
        "    printf(\"No of threads = %d\\n\", number_of_threads);\n",
        "    \n",
        "    while(number_of_threads>0) {\n",
        "        if(tid < number_of_threads) {\n",
        "            int first = tid*step_size*2;\n",
        "            int second = first + step_size;\n",
        "            if(input[second] < input[first])\n",
        "              input[first] = input[second];\n",
        "        }\n",
        "        step_size <<= 1;\n",
        "        number_of_threads >>= 1;\n",
        "    }\n",
        "}\n",
        "\n",
        "__global__ void maximum(int *input) {\n",
        "    int tid = threadIdx.x;\n",
        "    int step_size = 1;\n",
        "    int number_of_threads = blockDim.x;\n",
        "    \n",
        "    while(number_of_threads>0) {\n",
        "        if(tid < number_of_threads) {\n",
        "            int first = tid*step_size*2;\n",
        "            int second = first + step_size;\n",
        "            if(input[second] > input[first])\n",
        "              input[first] = input[second];\n",
        "        }\n",
        "        step_size <<= 1;\n",
        "        number_of_threads >>= 1;\n",
        "    }\n",
        "}\n",
        "\n",
        "__global__ void sum(int *input) {\n",
        "    const int tid = threadIdx.x;\n",
        "    int step_size = 1;\n",
        "    int number_of_threads = blockDim.x;\n",
        "    \n",
        "    while(number_of_threads > 0) {\n",
        "        if(tid < number_of_threads) {\n",
        "            int first = tid * step_size * 2;\n",
        "            int second = first + step_size;\n",
        "            \n",
        "            input[first] += input[second];\n",
        "        }\n",
        "        step_size <<= 1;\n",
        "        number_of_threads >>= 1;\n",
        "       \n",
        "    }\n",
        "}\n",
        "\n",
        "__global__ void mean_diff_sq(float *input, float mean) {\n",
        "    input[threadIdx.x] -= mean;\n",
        "    input[threadIdx.x] *= input[threadIdx.x];\n",
        "}\n",
        "\n",
        "__global__ void sum_floats(float *input) {\n",
        "    int tid = threadIdx.x;\n",
        "    int step_size = 1;\n",
        "    int number_of_threads = blockDim.x;\n",
        "    \n",
        "    while(number_of_threads > 0) {\n",
        "        if(tid < number_of_threads) {\n",
        "            int first = tid * step_size * 2;\n",
        "            int second = first + step_size;\n",
        "            \n",
        "            input[first] += input[second];\n",
        "        }\n",
        "        step_size <<= 1;\n",
        "        number_of_threads >>= 1;\n",
        "       \n",
        "    }\n",
        "}\n",
        "\n",
        "void copy_int_to_float(float *dest, int *src, int size){\n",
        "    for(int i=0; i<size; i++)\n",
        "        dest[i] = float(src[i]);\n",
        "}\n",
        "\n",
        "void random_ints(int *input, int size) {\n",
        "    for(int i=0; i<size; i++)  {\n",
        "        input[i] = rand()%100;\n",
        "        cout<<input[i]<<\"  \";   \n",
        "    }\n",
        "    cout<<endl;\n",
        "\n",
        "}\n",
        "\n",
        "int main() {\n",
        "    //int n=8;\n",
        "    int size = n*sizeof(int); //calculate no. of bytes for array\n",
        "        \n",
        "    int *arr;\n",
        "    int *arr_d, result;\n",
        "   \n",
        "    arr = (int *)malloc(size);\n",
        "    random_ints(arr, n);\n",
        "    \n",
        "    cudaMalloc((void **)&arr_d, size);\n",
        "    \n",
        "    //MIN\n",
        "    cudaMemcpy(arr_d, arr, size, cudaMemcpyHostToDevice);\n",
        "    \n",
        "    minimum<<<1,n/2>>>(arr_d);\n",
        "    \n",
        "    cudaMemcpy(&result, arr_d, sizeof(int), cudaMemcpyDeviceToHost);\n",
        "    \n",
        "    cout<<\"The minimum element is \"<<result<<endl;\n",
        "      \n",
        "       \n",
        "    //MAX\n",
        "    cudaMemcpy(arr_d, arr, size, cudaMemcpyHostToDevice);\n",
        "    \n",
        "    maximum<<<1,n/2>>>(arr_d);\n",
        "    \n",
        "    cudaMemcpy(&result, arr_d, sizeof(int), cudaMemcpyDeviceToHost);\n",
        "    \n",
        "    cout<<\"The maximum element is \"<<result<<endl;\n",
        "    \n",
        "    //SUM\n",
        "    cudaMemcpy(arr_d, arr, size, cudaMemcpyHostToDevice);\n",
        "    \n",
        "    sum<<<1,n/2>>>(arr_d);\n",
        "    \n",
        "    cudaMemcpy(&result, arr_d, sizeof(int), cudaMemcpyDeviceToHost);\n",
        "    \n",
        "    cout<<\"The sum is \"<<result<<endl;\n",
        "    \n",
        "    //AVERAGE\n",
        "    \n",
        "    float mean = float(result)/n;\n",
        "    cout<<\"The mean is \"<<mean<<endl;\n",
        "    \n",
        "    //STANDARD DEVIATION\n",
        "    float *arr_float;\n",
        "    float *arr_std, stdValue;\n",
        "    \n",
        "    arr_float = (float *)malloc(n*sizeof(float));\n",
        "    cudaMalloc((void **)&arr_std, n*sizeof(float));\n",
        "    \n",
        "    copy_int_to_float(arr_float, arr, n);\n",
        "    \n",
        "    cudaMemcpy(arr_std, arr_float, n*sizeof(float), cudaMemcpyHostToDevice);\n",
        "    \n",
        "    mean_diff_sq <<<1,n>>>(arr_std, mean);\n",
        "    sum_floats<<<1,n/2>>>(arr_std);\n",
        "    \n",
        "    cudaMemcpy(&stdValue, arr_std, sizeof(float), cudaMemcpyDeviceToHost);\n",
        "    \n",
        "    \n",
        "    stdValue = stdValue / n;\n",
        "    cout<<\"The variance is \"<<stdValue<<endl;\n",
        "    stdValue = sqrt(stdValue);\n",
        "    \n",
        "    cout<<\"The standard deviation is \"<<stdValue<<endl;\n",
        "    \n",
        "    cudaFree(arr_d);\n",
        "           \n",
        "    return 0;\n",
        "}\n"
      ],
      "metadata": {
        "colab": {
          "base_uri": "https://localhost:8080/"
        },
        "id": "cpDvDAsaHkcy",
        "outputId": "2e0d92a1-0aed-4824-a0c6-5b44e9eba192"
      },
      "execution_count": null,
      "outputs": [
        {
          "output_type": "stream",
          "name": "stdout",
          "text": [
            "83  86  77  15  93  35  86  92  \n",
            "No of threads = 4\n",
            "No of threads = 4\n",
            "No of threads = 4\n",
            "No of threads = 4\n",
            "The minimum element is 15\n",
            "The maximum element is 93\n",
            "The sum is 567\n",
            "The mean is 70.875\n",
            "The variance is 748.359\n",
            "The standard deviation is 27.3562\n",
            "\n"
          ]
        }
      ]
    },
    {
      "cell_type": "code",
      "source": [
        ""
      ],
      "metadata": {
        "id": "XcH3dCVDUBAs"
      },
      "execution_count": null,
      "outputs": []
    },
    {
      "cell_type": "markdown",
      "source": [
        "# ***HPC: A2 Parallel Computing (Matrix-Matrix Multiplication)***"
      ],
      "metadata": {
        "id": "r_TF-Zl1UYI8"
      }
    },
    {
      "cell_type": "code",
      "source": [
        "%%cu\n",
        "#include<iostream>\n",
        "\n",
        "using namespace std;\n",
        "\n",
        "__global__\n",
        "void matrixMultiplication(int *a, int *b, int *c, int m, int n, int k)\n",
        "{\n",
        "    int row = blockIdx.y*blockDim.y + threadIdx.y;\n",
        "    int col = blockIdx.x*blockDim.x + threadIdx.x;\n",
        "    int sum=0;\n",
        "   \n",
        "    if(col<k && row<m) {\n",
        "      for(int j=0;j<n;j++)\n",
        "      {\n",
        "          sum += a[row*n+j] * b[j*k+col];\n",
        "      }\n",
        "      c[k*row+col]=sum;\n",
        "    }\n",
        "    \n",
        "}\n",
        "\n",
        "void init_result(int *a, int m, int k) {\n",
        "    for(int i=0; i<m; i++) {\n",
        "      for(int j=0; j<k; j++) {\n",
        "        a[i*k + j] = 0;\n",
        "      }\n",
        "    }\n",
        "}\n",
        "\n",
        "void init_matrix(int *a, int n, int m) {\n",
        "    for(int i=0; i<n; i++) {\n",
        "      for(int j=0; j<m; j++) {\n",
        "        a[i*m + j] = rand()%10 + 1;\n",
        "      }\n",
        "    }\n",
        "}\n",
        "\n",
        "void print_matrix(int *a, int n, int m) {\n",
        "    for(int i=0; i<n; i++) {\n",
        "      for(int j=0; j<m; j++) {\n",
        "        cout<<\"  \"<<a[i*m + j];\n",
        "      }\n",
        "      cout<<endl;\n",
        "    }\n",
        "    cout<<endl;\n",
        "}\n",
        "\n",
        "int main()\n",
        "{\n",
        "    \n",
        "    int *a,*b,*c;\n",
        "    int *a_dev,*b_dev,*c_dev;\n",
        "    int m=5, n=4, k=3;\n",
        "    \n",
        "    a = new int[m*n];\n",
        "    b = new int[n*k];\n",
        "    c = new int[m*k];\n",
        "    \n",
        "    init_matrix(a, m, n);\n",
        "    init_matrix(b, n ,k);\n",
        "    init_result(c, m, k);\n",
        "    \n",
        "    cout<<\"Initial matrix : \"<<endl;\n",
        "    \n",
        "    print_matrix(a, m, n);\n",
        "    print_matrix(b, n, k);\n",
        "    print_matrix(c, m, k);\n",
        "    \n",
        "    cudaMalloc(&a_dev, sizeof(int)*m*n);\n",
        "    cudaMalloc(&b_dev, sizeof(int)*n*k);\n",
        "    cudaMalloc(&c_dev, sizeof(int)*m*k);\n",
        "       \n",
        "    cudaMemcpy(a_dev, a, sizeof(int)*m*n, cudaMemcpyHostToDevice);\n",
        "    cudaMemcpy(b_dev, b, sizeof(int)*n*k, cudaMemcpyHostToDevice);\n",
        "    \n",
        "    dim3 dimGrid(1,1);\n",
        "    dim3 dimBlock(16,16);\n",
        "    \n",
        "    matrixMultiplication<<<dimGrid, dimBlock>>>(a_dev,b_dev,c_dev, m, n, k);\n",
        "     \n",
        "    cudaMemcpy(c, c_dev, sizeof(int)*m*k, cudaMemcpyDeviceToHost);\n",
        "    \n",
        "    cout<<\"Result : \"<<endl;\n",
        "    print_matrix(c, m, k);\n",
        "    \n",
        "    cudaFree(a_dev);\n",
        "    cudaFree(b_dev);\n",
        "    cudaFree(c_dev);\n",
        "    \n",
        "    delete[] a;\n",
        "    delete[] b;\n",
        "    delete[] c;\n",
        "    \n",
        "    return 0;\n",
        "}\n"
      ],
      "metadata": {
        "colab": {
          "base_uri": "https://localhost:8080/"
        },
        "id": "eNrwUrrGUhg9",
        "outputId": "aae7bf0a-2963-442d-e375-e0a290e96014"
      },
      "execution_count": null,
      "outputs": [
        {
          "output_type": "stream",
          "name": "stdout",
          "text": [
            "Initial matrix : \n",
            "  4  7  8  6\n",
            "  4  6  7  3\n",
            "  10  2  3  8\n",
            "  1  10  4  7\n",
            "  1  7  3  7\n",
            "\n",
            "  2  9  8\n",
            "  10  3  1\n",
            "  3  4  8\n",
            "  6  10  3\n",
            "\n",
            "  0  0  0\n",
            "  0  0  0\n",
            "  0  0  0\n",
            "  0  0  0\n",
            "  0  0  0\n",
            "\n",
            "Result : \n",
            "  138  149  121\n",
            "  107  112  103\n",
            "  97  188  130\n",
            "  156  125  71\n",
            "  123  112  60\n",
            "\n",
            "\n"
          ]
        }
      ]
    },
    {
      "cell_type": "markdown",
      "source": [
        "# ***HPC: A2 Parallel Computing (Vector-Matrix Multiplication)***"
      ],
      "metadata": {
        "id": "ZYU-ssDUU4UJ"
      }
    },
    {
      "cell_type": "code",
      "source": [
        "%%cu\n",
        "#include<iostream>\n",
        "\n",
        "using namespace std;\n",
        "\n",
        "__global__\n",
        "void matrixVector(int *vec, int *mat, int *result, int n, int m)\n",
        "{\n",
        "    int tid = blockIdx.x*blockDim.x + threadIdx.x;\n",
        "    int sum=0;\n",
        "    \n",
        "    if(tid <= n) {\n",
        "        for(int i=0; i<n; i++) {\n",
        "            sum += vec[i]*mat[(i*m) + tid];\n",
        "        }\n",
        "        result[tid] = sum;\n",
        "    }\n",
        "}\n",
        "\n",
        "void init_array(int *a, int n) {\n",
        "    for(int i=0; i<n; i++)\n",
        "      a[i] = rand()%n + 1;\n",
        "}\n",
        "\n",
        "void init_matrix(int *a, int n, int m) {\n",
        "    for(int i=0; i<n; i++) {\n",
        "        for(int j=0; j<m; j++) {\n",
        "            a[i*m + j] = rand()%n + 1;\n",
        "        }\n",
        "    }\n",
        "}\n",
        "\n",
        "void print_array(int *a, int n) {\n",
        "    for(int i=0; i<n; i++) {\n",
        "        cout<<\"  \"<<a[i];\n",
        "    }\n",
        "    cout<<endl;\n",
        "}\n",
        "\n",
        "void print_matrix(int *a, int n, int m) {\n",
        "    for(int i=0; i<n; i++) {\n",
        "        for(int j=0; j<m; j++)\n",
        "          cout<<\"  \"<<a[i*m + j];\n",
        "        cout<<endl;\n",
        "    }\n",
        "}\n",
        "\n",
        "int main() {\n",
        "    int *a, *b, *c;\n",
        "    int *a_dev, *b_dev, *c_dev;\n",
        "    \n",
        "    int n = 3;\n",
        "    int m = 4;\n",
        "    \n",
        "    a = new int[n];\n",
        "    b = new int[n*m];\n",
        "    c = new int[m];\n",
        "    \n",
        "    init_array(a, n);\n",
        "    init_matrix(b, n, m);\n",
        "        \n",
        "    cout<<\"Initial array : \"<<endl;\n",
        "    print_array(a, n);\n",
        "    cout<<\"Initial matrix : \"<<endl;\n",
        "    print_matrix(b, n, m);\n",
        "    cout<<\"Initial resultant array : \"<<endl;\n",
        "    print_array(c, m);\n",
        "    cout<<endl;\n",
        "    \n",
        "    cudaMalloc(&a_dev, sizeof(int)*n);\n",
        "    cudaMalloc(&b_dev, sizeof(int)*n*m);\n",
        "    cudaMalloc(&c_dev, sizeof(int)*m);\n",
        "    \n",
        "    cudaMemcpy(a_dev, a, sizeof(int)*n, cudaMemcpyHostToDevice);\n",
        "    cudaMemcpy(b_dev, b, sizeof(int)*n*m, cudaMemcpyHostToDevice);\n",
        "    \n",
        "    matrixVector<<<m/256+1, 256>>>(a_dev, b_dev, c_dev, n, m);\n",
        "    \n",
        "    cudaMemcpy(c, c_dev, sizeof(int)*m, cudaMemcpyDeviceToHost);\n",
        "    \n",
        "    cout<<\"Results : \"<<endl;\n",
        "    print_array(c, m);\n",
        "    \n",
        "    cudaFree(a_dev);\n",
        "    cudaFree(b_dev);\n",
        "    cudaFree(c_dev);\n",
        "    \n",
        "    delete[] a;\n",
        "    delete[] b;\n",
        "    delete[] c;\n",
        "    \n",
        "    return 0;\n",
        "}"
      ],
      "metadata": {
        "colab": {
          "base_uri": "https://localhost:8080/"
        },
        "id": "2riS8wPlUwtV",
        "outputId": "e1a5224a-6305-49e7-c5cd-b186e42a67aa"
      },
      "execution_count": null,
      "outputs": [
        {
          "output_type": "stream",
          "name": "stdout",
          "text": [
            "Initial array : \n",
            "  2  2  1\n",
            "Initial matrix : \n",
            "  2  3  2  2\n",
            "  1  1  2  3\n",
            "  2  3  2  3\n",
            "Initial resultant array : \n",
            "  0  0  0  0\n",
            "\n",
            "Results : \n",
            "  8  11  10  13\n",
            "\n"
          ]
        }
      ]
    },
    {
      "cell_type": "markdown",
      "source": [
        "# ***HPC: A2 Parallel Computing (Vector-Vector Addition)***"
      ],
      "metadata": {
        "id": "w36ytmjgVmc0"
      }
    },
    {
      "cell_type": "code",
      "source": [
        "%%cu\n",
        "#include<iostream>\n",
        "#include<cstdlib>\n",
        "using namespace std;\n",
        "\n",
        "__global__ void vectorAdd(int *a, int *b, int *result, int n) {\n",
        "    int tid = blockIdx.x*blockDim.x + threadIdx.x;\n",
        "    if(tid <= n) {\n",
        "        result[tid] = a[tid] + b[tid];\n",
        "    }\n",
        "}\n",
        "\n",
        "void print_array(int *a, int N) {\n",
        "    for(int i=0; i<N; i++) {\n",
        "        cout<<\"  \"<<a[i];\n",
        "    }\n",
        "    cout<<endl;\n",
        "}\n",
        "\n",
        "void init_array(int *a, int N) {\n",
        "    for(int i=0; i<N; i++) {\n",
        "        a[i] = rand()%10 + 1;\n",
        "    }\n",
        "}\n",
        "\n",
        "int main() {\n",
        "    int *a, *b, *c;\n",
        "    int *a_dev, *b_dev, *c_dev;\n",
        "    int n = 8;           //24\n",
        "    \n",
        "    a = (int*)malloc(n * sizeof(n));\n",
        "    b = (int*)malloc(n * sizeof(n));\n",
        "    c = (int*)malloc(n * sizeof(n));\n",
        "\n",
        "    int size = n * sizeof(int);\n",
        "    \n",
        "    cudaMalloc(&a_dev, size);\n",
        "    cudaMalloc(&b_dev, size);\n",
        "    cudaMalloc(&c_dev, size);\n",
        "    \n",
        "    init_array(a, n);\n",
        "    init_array(b, n);\n",
        "    \n",
        "    print_array(a, n);\n",
        "    print_array(b, n);\n",
        "        \n",
        "    //cudaEvent_t start, end;\n",
        "    //cudaEventCreate(&start);\n",
        "    //cudaEventCreate(&end);\n",
        "    \n",
        "    cudaMemcpy(a_dev, a, size, cudaMemcpyHostToDevice);\n",
        "    cudaMemcpy(b_dev, b, size, cudaMemcpyHostToDevice);\n",
        "    \n",
        "    //int threads = 1024;\n",
        "    //int blocks = (n+threads-1)/threads;\n",
        "    \n",
        "    //cudaEventRecord(start);\n",
        "    \n",
        "    //vectorAdd<<<blocks,threads>>>(a_dev, b_dev, c_dev, n);\n",
        "    vectorAdd<<<1,1024>>>(a_dev, b_dev, c_dev, n);\n",
        "    \n",
        "    //cudaEventRecord(end);\n",
        "    \n",
        "    //cudaDeviceSynchronize();\n",
        "       \n",
        "    //float time = 0.0;\n",
        "    //cudaEventElapsedTime(&time, start, end);\n",
        "    \n",
        "    cudaMemcpy(c, c_dev, size, cudaMemcpyDeviceToHost);\n",
        "    \n",
        "    cout<<\"Results : \"<<endl;\n",
        "    print_array(c, n);\n",
        " \n",
        "    //cout<<\"Time elapsed : \"<<time<<endl;\n",
        "        \n",
        "    cudaFree(a_dev);\n",
        "    cudaFree(b_dev);\n",
        "    cudaFree(c_dev);\n",
        "        \n",
        "    return 0;\n",
        "}"
      ],
      "metadata": {
        "colab": {
          "base_uri": "https://localhost:8080/"
        },
        "id": "wdv8xL4aVzgU",
        "outputId": "bf0230ea-2065-4369-fe99-21175e40ce39"
      },
      "execution_count": null,
      "outputs": [
        {
          "output_type": "stream",
          "name": "stdout",
          "text": [
            "  4  7  8  6  4  6  7  3\n",
            "  10  2  3  8  1  10  4  7\n",
            "Results : \n",
            "  14  9  11  14  5  16  11  10\n",
            "\n"
          ]
        }
      ]
    },
    {
      "cell_type": "markdown",
      "source": [
        "# ***HPC A3: Parallel Bubble Sort***"
      ],
      "metadata": {
        "id": "Z4SOGXCnXEL-"
      }
    },
    {
      "cell_type": "code",
      "source": [
        "code = \"\"\"\n",
        "#include<omp.h>\n",
        "#include<iostream>\n",
        "using namespace std;\n",
        "\n",
        "void swap(int *num1, int *num2) {\n",
        "    int temp = *num1;\n",
        "    *num1 = *num2;\n",
        "    *num2 = temp;\n",
        "}\n",
        "\n",
        "int main() {\n",
        "    int n = 10;\n",
        "    int a[n];\n",
        "    \n",
        "    omp_set_num_threads(2);\n",
        "    \n",
        "    for(int i=0; i<n; i++) {\n",
        "        a[i] = rand()% 100;\n",
        "    }\n",
        "    \n",
        "    for(int i=0; i<n; i++) \n",
        "        cout<<\"  \"<<a[i];\n",
        "    cout<<endl;\n",
        "    \n",
        "    int i=0, j=0;\n",
        "    int first=0;\n",
        "    double start, end;\n",
        "    \n",
        "    start = omp_get_wtime();\n",
        "    for(i=0; i<n-1; i++) {\n",
        "        first = i%2;\n",
        "        #pragma omp parallel for\n",
        "        for(j=first; j<n-1; j++) {\n",
        "            if(a[j] > a[j+1])\n",
        "              swap(&a[j], &a[j+1]);\n",
        "        }\n",
        "    }\n",
        "    \n",
        "    end = omp_get_wtime();\n",
        "    cout<<\"Result(parallel) : \"<<endl;\n",
        "    for(i=0; i<n; i++)\n",
        "      cout<<\"  \"<<a[i];\n",
        "    cout<<endl;\n",
        "    \n",
        "    cout<<\"Time parallel = \"<<(end-start)<<endl;\n",
        "    \n",
        "    return 0;\n",
        "    \n",
        "}\n",
        "\"\"\""
      ],
      "metadata": {
        "id": "Nrw8WOMHXONN"
      },
      "execution_count": null,
      "outputs": []
    },
    {
      "cell_type": "code",
      "source": [
        ""
      ],
      "metadata": {
        "id": "vTdkZXcWaTXg"
      },
      "execution_count": null,
      "outputs": []
    },
    {
      "cell_type": "code",
      "source": [
        "text_file = open(\"code.cpp\", \"w\")\n",
        "text_file.write(code)\n",
        "text_file.close()"
      ],
      "metadata": {
        "id": "0yfqeZRzZdCV"
      },
      "execution_count": null,
      "outputs": []
    },
    {
      "cell_type": "code",
      "source": [
        "!g++ -fopenmp code.cpp"
      ],
      "metadata": {
        "id": "Dxw7xZalZhx6"
      },
      "execution_count": null,
      "outputs": []
    },
    {
      "cell_type": "code",
      "source": [
        "!./a.out"
      ],
      "metadata": {
        "colab": {
          "base_uri": "https://localhost:8080/"
        },
        "id": "XizpGcvlZpb7",
        "outputId": "0bacd12a-b1b2-4c35-b5c7-f65537b6c317"
      },
      "execution_count": null,
      "outputs": [
        {
          "output_type": "stream",
          "name": "stdout",
          "text": [
            "  83  86  77  15  93  35  86  92  49  21\n",
            "Result(parallel) : \n",
            "  15  21  35  49  77  83  86  86  92  93\n",
            "Time parallel = 9.6007e-05\n"
          ]
        }
      ]
    },
    {
      "cell_type": "markdown",
      "source": [
        "# ***HPC A3: Merge Sort Parallel***"
      ],
      "metadata": {
        "id": "xakRXywlaAKM"
      }
    },
    {
      "cell_type": "code",
      "source": [
        "code = \"\"\"\n",
        "#include<iostream>\n",
        "#include<omp.h>\n",
        "\n",
        "using namespace std;\n",
        "\n",
        "void printArray(int *arr, int size) {\n",
        "    for(int i=0; i<size; i++) {\n",
        "         cout<<arr[i]<<\"  \";\n",
        "    }\n",
        "    cout<<endl;\n",
        "}\n",
        "\n",
        "void merge(int* arr, int start, int mid, int end) {\n",
        "    int len = (end - start) + 1;\n",
        "    int temp[len];\n",
        "    int cur = 0;\n",
        "    \n",
        "    int i = start;\n",
        "    int j = mid + 1;\n",
        "    while(i <= mid && j <= end){\n",
        "        if(arr[i] < arr[j]) {\n",
        "            temp[cur] = arr[i];\n",
        "            cur++;\n",
        "            i++;\n",
        "        }\n",
        "        else {\n",
        "            temp[cur] = arr[j];\n",
        "            cur++;\n",
        "            j++;\n",
        "        }\n",
        "    }\n",
        "    if(i <= mid) {\n",
        "        while(i <= mid) {\n",
        "            temp[cur] = arr[i];\n",
        "            i++;\n",
        "            cur++;\n",
        "        }\n",
        "    }\n",
        "    \n",
        "    else if(j <= end) {\n",
        "        while(j <= end) {\n",
        "            temp[cur] = arr[j];\n",
        "            j++;\n",
        "            cur++;\n",
        "        }\n",
        "    }\n",
        "    \n",
        "    cur = 0;\n",
        "    for(i=start; i<=end; i++) {\n",
        "        arr[i] = temp[cur];\n",
        "        cur++;\n",
        "    }\n",
        "\n",
        "}\n",
        "//merge sort normal\n",
        "void mergeSortNormal(int *array, int begin, int end)\n",
        "{\n",
        "    if (begin >= end)\n",
        "        return; // Returns recursively\n",
        "  \n",
        "    auto mid = begin + (end - begin) / 2;\n",
        "    mergeSortNormal(array, begin, mid);\n",
        "    mergeSortNormal(array, mid + 1, end);\n",
        "    merge(array, begin, mid, end);\n",
        "}\n",
        "\n",
        "//merge sort parallel\n",
        "void mergeSort(int *arr, int start, int end) {\n",
        "    if(start < end) {\n",
        "        int mid = (start+end) / 2;\n",
        "        \n",
        "        #pragma omp parallel sections\n",
        "        {\n",
        "            #pragma omp section\n",
        "            mergeSort(arr, start, mid);\n",
        "            \n",
        "            #pragma omp section\n",
        "            mergeSort(arr, mid+1, end);\n",
        "        }\n",
        "        \n",
        "        merge(arr, start, mid, end);\n",
        "    \n",
        "    }\n",
        "}\n",
        "\n",
        "int main(int argc, char *argv[]) {\n",
        "    int size = 100;\n",
        "    int a[size];\n",
        "    \n",
        "    double start, end;\n",
        "    \n",
        "    omp_set_num_threads(2);\n",
        "    \n",
        "    for(int i=0; i<size; i++) {\n",
        "        a[i] = rand()% 100;\n",
        "    }\n",
        "    \n",
        "    //int a[]= {7,33,5,5,23,111,75,34,77,121,120};\n",
        "    \n",
        "    for(int i=0; i<size; i++) \n",
        "        cout<<\"  \"<<a[i];\n",
        "    cout<<endl;\n",
        "    start = omp_get_wtime();\n",
        "    \n",
        "    mergeSort(a, 0, size-1);\n",
        "    \n",
        "    printArray(a, size);\n",
        "    \n",
        "    end = omp_get_wtime();\n",
        "    \n",
        "    cout<<\"Time parallel = \"<<(end-start)<<endl;\n",
        "\n",
        "    //for normal merge sort\n",
        "    int b[size];\n",
        "    for(int i=0; i<size; i++) {\n",
        "        b[i] = rand()% 100;\n",
        "    }\n",
        "\n",
        "    double start2 = omp_get_wtime();\n",
        "    \n",
        "    mergeSortNormal(b, 0, size-1);\n",
        "    \n",
        "    printArray(b, size);\n",
        "    \n",
        "    double end2 = omp_get_wtime();\n",
        "    \n",
        "    cout<<\"Time Normal Merge Sort = \"<<(end2-start2)<<endl;\n",
        "\n",
        "\n",
        "    \n",
        "    return 0;\n",
        "}\n",
        "\n",
        "\"\"\""
      ],
      "metadata": {
        "id": "eFc5l5vkaHgD"
      },
      "execution_count": null,
      "outputs": []
    },
    {
      "cell_type": "code",
      "source": [
        "text_file = open(\"merge11.cpp\", \"w\")\n",
        "text_file.write(code)\n",
        "text_file.close()"
      ],
      "metadata": {
        "id": "8UAUMzaCaXMN"
      },
      "execution_count": null,
      "outputs": []
    },
    {
      "cell_type": "code",
      "source": [
        "!g++ -fopenmp merge11.cpp"
      ],
      "metadata": {
        "id": "dzz6lDNSaY5Q"
      },
      "execution_count": null,
      "outputs": []
    },
    {
      "cell_type": "code",
      "source": [
        "!./a.out"
      ],
      "metadata": {
        "colab": {
          "base_uri": "https://localhost:8080/"
        },
        "id": "078iEsqwadsV",
        "outputId": "5d0fdd0f-eb14-427c-bd55-43c81ee84c3f"
      },
      "execution_count": null,
      "outputs": [
        {
          "output_type": "stream",
          "name": "stdout",
          "text": [
            "  83  86  77  15  93  35  86  92  49  21  62  27  90  59  63  26  40  26  72  36  11  68  67  29  82  30  62  23  67  35  29  2  22  58  69  67  93  56  11  42  29  73  21  19  84  37  98  24  15  70  13  26  91  80  56  73  62  70  96  81  5  25  84  27  36  5  46  29  13  57  24  95  82  45  14  67  34  64  43  50  87  8  76  78  88  84  3  51  54  99  32  60  76  68  39  12  26  86  94  39\n",
            "2  3  5  5  8  11  11  12  13  13  14  15  15  19  21  21  22  23  24  24  25  26  26  26  26  27  27  29  29  29  29  30  32  34  35  35  36  36  37  39  39  40  42  43  45  46  49  50  51  54  56  56  57  58  59  60  62  62  62  63  64  67  67  67  67  68  68  69  70  70  72  73  73  76  76  77  78  80  81  82  82  83  84  84  84  86  86  86  87  88  90  91  92  93  93  94  95  96  98  99  \n",
            "Time parallel = 0.000239181\n",
            "0  1  1  2  3  6  7  8  9  11  14  15  17  17  18  18  19  19  19  21  21  23  24  24  27  27  28  28  28  28  28  29  29  29  29  31  32  32  34  34  35  36  37  37  40  40  41  41  43  43  44  45  46  49  50  51  51  52  53  55  56  56  56  58  59  64  64  65  65  65  67  67  68  70  70  71  71  74  75  75  78  79  80  81  83  86  86  87  88  89  91  92  93  93  95  95  96  97  97  97  \n",
            "Time Normal Merge Sort = 6.2746e-05\n"
          ]
        }
      ]
    },
    {
      "cell_type": "code",
      "source": [
        ""
      ],
      "metadata": {
        "id": "lebaRtHuvVoW"
      },
      "execution_count": null,
      "outputs": []
    },
    {
      "cell_type": "markdown",
      "source": [
        "# ***HPC 4 : MPI (Binary Search)***"
      ],
      "metadata": {
        "id": "-_auE8jovWJq"
      }
    },
    {
      "cell_type": "code",
      "source": [
        "code = \"\"\"\n",
        "#include<mpi.h>\n",
        "#include<stdio.h>\n",
        "\n",
        "#define n 12\n",
        "\n",
        "#define key 55\n",
        "\n",
        "int a[] = {1,2,3,4,7,9,13,24,55,56,67,88};\n",
        "\n",
        "int a2[20];\n",
        "\n",
        "int binarySearch(int *array, int start, int end, int value) {\n",
        "    int mid;\n",
        "    \n",
        "    while(start <= end) {\n",
        "        mid = (start + end) / 2;\n",
        "        if(array[mid] == value) \n",
        "            return mid;\n",
        "        else if(array[mid] > value)\n",
        "            end = mid - 1;\n",
        "        else\n",
        "            start = mid + 1;\n",
        "    }\n",
        "    return -1;\n",
        "}\n",
        "\n",
        "int main(int argc, char* argv[]) {\n",
        "    int pid, np, elements_per_process, n_elements_received;\n",
        "    \n",
        "    MPI_Status status;\n",
        "    \n",
        "    MPI_Init(&argc, &argv);\n",
        "    \n",
        "    MPI_Comm_rank(MPI_COMM_WORLD, &pid);\n",
        "    MPI_Comm_size(MPI_COMM_WORLD, &np);\n",
        "    \n",
        "    if(pid == 0) {\n",
        "        int index, i;\n",
        "        \n",
        "        if(np > 1) {\n",
        "            for(i=1; i<np-1; i++) {\n",
        "                \n",
        "                index = i * elements_per_process;\n",
        "                //element count\n",
        "                MPI_Send(&elements_per_process, 1, MPI_INT, i, 0, MPI_COMM_WORLD);\n",
        "\n",
        "                MPI_Send(&a[index], elements_per_process, MPI_INT, i, 0, MPI_COMM_WORLD);\n",
        "            \n",
        "            }\n",
        "            \n",
        "            index = i* elements_per_process;\n",
        "            \n",
        "            int elements_left = n - index;\n",
        "            \n",
        "            MPI_Send(&elements_left, 1, MPI_INT, i, 0, MPI_COMM_WORLD);\n",
        "            \n",
        "            MPI_Send(&a[index], elements_left, MPI_INT, i, 0, MPI_COMM_WORLD);\n",
        "        }\n",
        "        \n",
        "        int position = binarySearch(a, 0, elements_per_process-1, key);\n",
        "        \n",
        "        if(position != -1)\n",
        "          printf(\"Found at: %d\", position);\n",
        "        \n",
        "        int temp;\n",
        "        \n",
        "        for(i=1; i<np; i++) {\n",
        "            MPI_Recv(&temp, 1, MPI_INT, MPI_ANY_SOURCE, 0, MPI_COMM_WORLD, &status);\n",
        "            int sender = status.MPI_SOURCE;\n",
        "            \n",
        "            if(temp != -1)\n",
        "                printf(\"Found at: %d by %d\", (sender*elements_per_process)+temp, sender);\n",
        "        }\n",
        "    }\n",
        "    \n",
        "    else {\n",
        "        MPI_Recv(&n_elements_received, 1, MPI_INT, 0, 0, MPI_COMM_WORLD, &status);\n",
        "        \n",
        "        MPI_Recv(&a2, n_elements_received, MPI_INT, 0, 0, MPI_COMM_WORLD, &status);\n",
        "    \n",
        "        int position = binarySearch(a2, 0, n_elements_received-1, key);\n",
        "        \n",
        "        MPI_Send(&position, 1, MPI_INT, 0, 0, MPI_COMM_WORLD);\n",
        "    }\n",
        "    \n",
        "    MPI_Finalize();\n",
        "    \n",
        "    return 0;\n",
        "}\n",
        "\"\"\"\n"
      ],
      "metadata": {
        "id": "7BYx72tNvfz3"
      },
      "execution_count": null,
      "outputs": []
    },
    {
      "cell_type": "code",
      "source": [
        "text_file = open(\"mpiBinary.c\", \"w\");\n",
        "text_file.write(code);\n",
        "text_file.close();"
      ],
      "metadata": {
        "id": "4DxjJKg0wEy3"
      },
      "execution_count": null,
      "outputs": []
    },
    {
      "cell_type": "code",
      "source": [
        "!mpiCC mpiBinary.c"
      ],
      "metadata": {
        "id": "D2ImJG3dwIt0"
      },
      "execution_count": null,
      "outputs": []
    },
    {
      "cell_type": "code",
      "source": [
        "!mpirun --allow-run-as-root -np 4 ./a.out"
      ],
      "metadata": {
        "colab": {
          "base_uri": "https://localhost:8080/"
        },
        "id": "UlLWOja6wMAH",
        "outputId": "105f563e-4bfd-45cd-ce3e-6244167a753a"
      },
      "execution_count": null,
      "outputs": [
        {
          "output_type": "stream",
          "name": "stdout",
          "text": [
            "Found at: 8 by 3"
          ]
        }
      ]
    },
    {
      "cell_type": "markdown",
      "source": [
        "# ***HPC A4 : (BFS)***"
      ],
      "metadata": {
        "id": "CA5s--SrwPX-"
      }
    },
    {
      "cell_type": "code",
      "source": [
        "code = \"\"\"\n",
        "#include<iostream>\n",
        "#include<omp.h>\n",
        "\n",
        "using namespace std;\n",
        "int q[100];\n",
        "int visited[7];\n",
        "int local_q;\n",
        "\n",
        "void bfs(int adj_matrix[7][7], int first, int last, int q[], int n_nodes) {\n",
        "    if(first==last)\n",
        "      return;\n",
        "    \n",
        "    int cur_node = q[first++];\n",
        "    cout<<\"  \"<<cur_node;\n",
        "    \n",
        "    omp_set_num_threads(3);\n",
        "    \n",
        "    #pragma omp parallel for shared(visited)\n",
        "    for(int i=0; i<n_nodes; i++) {\n",
        "        if(adj_matrix[cur_node][i] == 1 && visited[i] == 0){\n",
        "            q[last++] = i;\n",
        "            visited[i] = 1;\n",
        "        }\n",
        "    }\n",
        "    \n",
        "    bfs(adj_matrix, first, last, q, n_nodes);\n",
        "}\n",
        "\n",
        "int main() {\n",
        "    int first = -1;\n",
        "    int last = 0;\n",
        "    int n_nodes = 7;\n",
        "    \n",
        "    for(int i=0; i<n_nodes; i++) {\n",
        "        visited[i] = 0;\n",
        "    }\n",
        "    \n",
        "    int adj_matrix[7][7] = {\n",
        "      {0, 1, 1, 0, 0, 0, 0},\n",
        "      {1, 0, 1, 1, 0, 0, 0},\n",
        "      {1, 1, 0, 0, 1, 0, 0},\n",
        "      {0, 1, 0, 0, 1, 0, 0},\n",
        "      {0, 0, 1, 1, 0, 1, 0},\n",
        "      {0, 0, 0, 0, 1, 0, 1},\n",
        "      {0, 0, 0, 0, 0, 1, 0}\n",
        "    };\n",
        "    \n",
        "    int start_node = 3;\n",
        "    q[last++] = start_node;\n",
        "    first++;\n",
        "    visited[start_node] = 1;\n",
        " \n",
        "    bfs(adj_matrix, first, last, q, n_nodes);\n",
        "    \n",
        "    return 0;\n",
        "    \n",
        "}\n",
        "\"\"\""
      ],
      "metadata": {
        "id": "aKRxSwcvwaf_"
      },
      "execution_count": null,
      "outputs": []
    },
    {
      "cell_type": "code",
      "source": [
        "text_file = open(\"code.cpp\", \"w\")\n",
        "text_file.write(code)\n",
        "text_file.close()"
      ],
      "metadata": {
        "id": "F8W_4W6jwaqv"
      },
      "execution_count": null,
      "outputs": []
    },
    {
      "cell_type": "code",
      "source": [
        "!g++ -fopenmp code.cpp"
      ],
      "metadata": {
        "id": "uO-EMfWZwkCM"
      },
      "execution_count": null,
      "outputs": []
    },
    {
      "cell_type": "code",
      "source": [
        "!./a.out"
      ],
      "metadata": {
        "colab": {
          "base_uri": "https://localhost:8080/"
        },
        "id": "9Y3XRHDbwm-q",
        "outputId": "13610cdd-e4c1-4a31-b761-2a4ff2b49b98"
      },
      "execution_count": null,
      "outputs": [
        {
          "output_type": "stream",
          "name": "stdout",
          "text": [
            "  3  1  4  0  2  5  6"
          ]
        }
      ]
    }
  ]
}